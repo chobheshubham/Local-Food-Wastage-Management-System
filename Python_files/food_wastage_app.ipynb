{
 "cells": [
  {
   "cell_type": "code",
   "execution_count": 2,
   "id": "1965bdca-788c-4675-9a83-bd3b5c090f06",
   "metadata": {},
   "outputs": [
    {
     "name": "stdout",
     "output_type": "stream",
     "text": [
      "   Provider_ID                         Name           Type  \\\n",
      "0            1             Gonzales-Cochran    Supermarket   \n",
      "1            2  Nielsen, Johnson and Fuller  Grocery Store   \n",
      "2            3                 Miller-Black    Supermarket   \n",
      "3            4   Clark, Prince and Williams  Grocery Store   \n",
      "4            5               Coleman-Farley  Grocery Store   \n",
      "\n",
      "                                             Address            City  \\\n",
      "0  74347 Christopher Extensions\\nAndreamouth, OK ...     New Jessica   \n",
      "1           91228 Hanson Stream\\nWelchtown, OR 27136     East Sheena   \n",
      "2  561 Martinez Point Suite 507\\nGuzmanchester, W...  Lake Jesusview   \n",
      "3     467 Bell Trail Suite 409\\nPort Jesus, IA 61188     Mendezmouth   \n",
      "4  078 Matthew Creek Apt. 319\\nSaraborough, MA 53978   Valentineside   \n",
      "\n",
      "                Contact  \n",
      "0       +1-600-220-0480  \n",
      "1  +1-925-283-8901x6297  \n",
      "2      001-517-295-2206  \n",
      "3      556.944.8935x401  \n",
      "4          193.714.6577  \n",
      "   Receiver_ID          Name        Type               City           Contact\n",
      "0            1  Donald Gomez     Shelter     Port Carlburgh     (955)922-5295\n",
      "1            2  Laurie Ramos  Individual         Lewisburgh      761.042.1570\n",
      "2            3  Ashley Mckee         NGO  South Randalltown  691-023-0094x856\n",
      "3            4    Erika Rose         NGO   South Shaneville        8296491111\n",
      "4            5   John Romero  Individual          Bakerport      067.491.0154\n",
      "   Food_ID Food_Name  Quantity Expiry_Date  Provider_ID     Provider_Type  \\\n",
      "0        1     Bread        43   3/17/2025          110     Grocery Store   \n",
      "1        2      Soup        22   3/24/2025          791     Grocery Store   \n",
      "2        3    Fruits        46   3/28/2025          478  Catering Service   \n",
      "3        4    Fruits        15   3/16/2025          930        Restaurant   \n",
      "4        5      Soup        14   3/19/2025          279        Restaurant   \n",
      "\n",
      "           Location       Food_Type  Meal_Type  \n",
      "0  South Kellyville  Non-Vegetarian  Breakfast  \n",
      "1        West James  Non-Vegetarian     Dinner  \n",
      "2       Lake Regina           Vegan  Breakfast  \n",
      "3         Kellytown           Vegan      Lunch  \n",
      "4        Garciaport           Vegan     Dinner  \n",
      "   Claim_ID  Food_ID  Receiver_ID     Status        Timestamp\n",
      "0         1      164          908    Pending    3/5/2025 5:26\n",
      "1         2      353          391  Cancelled  3/11/2025 10:24\n",
      "2         3      626          492  Completed   3/21/2025 0:59\n",
      "3         4       61          933  Cancelled    3/4/2025 9:08\n",
      "4         5      345          229    Pending  3/14/2025 15:17\n"
     ]
    }
   ],
   "source": [
    "import pandas as pd\n",
    "\n",
    "# Load datasets\n",
    "providers = pd.read_csv('data/providers_data.csv')\n",
    "receivers = pd.read_csv('data/receivers_data.csv')\n",
    "food_listings = pd.read_csv('data/food_listings_data.csv')\n",
    "claims = pd.read_csv('data/claims_data.csv')\n",
    "\n",
    "# Preview data\n",
    "print(providers.head())\n",
    "print(receivers.head())\n",
    "print(food_listings.head())\n",
    "print(claims.head())\n"
   ]
  },
  {
   "cell_type": "code",
   "execution_count": 3,
   "id": "c6e97dba-db94-4e5d-b2a4-cd03cce56d4c",
   "metadata": {},
   "outputs": [],
   "source": [
    "food_listings['Expiry_Date'] = pd.to_datetime(food_listings['Expiry_Date'])\n",
    "claims['Timestamp'] = pd.to_datetime(claims['Timestamp'])"
   ]
  },
  {
   "cell_type": "code",
   "execution_count": 4,
   "id": "0029962c-7f43-4aec-aa6e-3d617b59b560",
   "metadata": {},
   "outputs": [
    {
     "name": "stdout",
     "output_type": "stream",
     "text": [
      "   Food_ID Food_Name  Quantity Expiry_Date  Provider_ID     Provider_Type  \\\n",
      "0        1     Bread        43  2025-03-17          110     Grocery Store   \n",
      "1        2      Soup        22  2025-03-24          791     Grocery Store   \n",
      "2        3    Fruits        46  2025-03-28          478  Catering Service   \n",
      "3        4    Fruits        15  2025-03-16          930        Restaurant   \n",
      "4        5      Soup        14  2025-03-19          279        Restaurant   \n",
      "\n",
      "           Location       Food_Type  Meal_Type  \n",
      "0  South Kellyville  Non-Vegetarian  Breakfast  \n",
      "1        West James  Non-Vegetarian     Dinner  \n",
      "2       Lake Regina           Vegan  Breakfast  \n",
      "3         Kellytown           Vegan      Lunch  \n",
      "4        Garciaport           Vegan     Dinner  \n"
     ]
    }
   ],
   "source": [
    "print(food_listings.head())"
   ]
  },
  {
   "cell_type": "code",
   "execution_count": 5,
   "id": "50364336-44d0-4b61-b654-e12419f81cbc",
   "metadata": {},
   "outputs": [
    {
     "name": "stdout",
     "output_type": "stream",
     "text": [
      "   Claim_ID  Food_ID  Receiver_ID     Status           Timestamp\n",
      "0         1      164          908    Pending 2025-03-05 05:26:00\n",
      "1         2      353          391  Cancelled 2025-03-11 10:24:00\n",
      "2         3      626          492  Completed 2025-03-21 00:59:00\n",
      "3         4       61          933  Cancelled 2025-03-04 09:08:00\n",
      "4         5      345          229    Pending 2025-03-14 15:17:00\n"
     ]
    }
   ],
   "source": [
    "print(claims.head())"
   ]
  },
  {
   "cell_type": "code",
   "execution_count": null,
   "id": "74373ea0-b0b1-491e-802e-63c83b94d2f1",
   "metadata": {},
   "outputs": [],
   "source": []
  }
 ],
 "metadata": {
  "kernelspec": {
   "display_name": "Python 3 (ipykernel)",
   "language": "python",
   "name": "python3"
  },
  "language_info": {
   "codemirror_mode": {
    "name": "ipython",
    "version": 3
   },
   "file_extension": ".py",
   "mimetype": "text/x-python",
   "name": "python",
   "nbconvert_exporter": "python",
   "pygments_lexer": "ipython3",
   "version": "3.13.5"
  }
 },
 "nbformat": 4,
 "nbformat_minor": 5
}
